{
 "cells": [
  {
   "cell_type": "markdown",
   "metadata": {},
   "source": [
    "## Generate Object Information"
   ]
  },
  {
   "cell_type": "markdown",
   "metadata": {},
   "source": [
    "### Setup"
   ]
  },
  {
   "cell_type": "code",
   "execution_count": 1,
   "metadata": {},
   "outputs": [],
   "source": [
    "import json\n",
    "from pathlib import Path\n",
    "import typing\n",
    "from pprint import pprint"
   ]
  },
  {
   "cell_type": "code",
   "execution_count": 2,
   "metadata": {},
   "outputs": [],
   "source": [
    "rules = json.loads(Path(\"acquireRules.json\").read_text())\n",
    "resourceRules = rules[\"resources\"]\n",
    "liquidRules = rules[\"liquids\"]\n",
    "allObjectInfo = {}"
   ]
  },
  {
   "cell_type": "markdown",
   "metadata": {},
   "source": [
    "### Helper Functions"
   ]
  },
  {
   "cell_type": "code",
   "execution_count": 3,
   "metadata": {},
   "outputs": [],
   "source": [
    "def replacePlaceholders(text: str, replacements: dict[str,str]) -> str:\n",
    "    \"\"\"Replace placeholders in a string with the corresponding values.\"\"\"\n",
    "    \n",
    "    for placeholder, value in replacements.items():\n",
    "        text = text.replace(placeholder, value)\n",
    "    \n",
    "    return text"
   ]
  },
  {
   "cell_type": "code",
   "execution_count": 4,
   "metadata": {},
   "outputs": [],
   "source": [
    "def recipeToText(recipe: dict) -> str:\n",
    "    \"\"\"Convert a recipe to an info string.\"\"\"\n",
    "    items = list(recipe.items())\n",
    "    if len(items) == 1:\n",
    "        return f\"{items[0][1]} {items[0][0]}\"\n",
    "    return \", \".join([f\"{v} {k}{'s' if v > 1 else ''}\" for k, v in items[:-1]]) \\\n",
    "        + f\" and {items[-1][1]} {items[-1][0]}{'s' if items[-1][1] > 1 else ''}\""
   ]
  },
  {
   "cell_type": "markdown",
   "metadata": {},
   "source": [
    "### Generation Functions"
   ]
  },
  {
   "cell_type": "code",
   "execution_count": 5,
   "metadata": {},
   "outputs": [],
   "source": [
    "def generateResourceInfo(data: dict[str, dict[str,typing.Any]], rules: dict[str: dict[str,str]]) -> dict[str,list[str]]:\n",
    "    \"\"\"Generate lists of strings forming the resource information.\n",
    "\n",
    "    Args:\n",
    "        data (dict[str, dict[str,typing.Any]]): resources data\n",
    "        rules (dict[str, dict[str,str]]): acquisition rules\n",
    "\n",
    "    Returns:\n",
    "        dict[str,list[str]]: object information for each resource\n",
    "    \"\"\"\n",
    "    \n",
    "    unique: dict[str, str] = rules[\"unqiue\"]\n",
    "    categorical: dict[str, str] = rules[\"rules\"][\"category\"]\n",
    "    starts: dict[str, str] = rules[\"rules\"][\"startswith\"]\n",
    "    ends: dict[str, str] = rules[\"rules\"][\"endswith\"]\n",
    "    contains: dict[str, str] = rules[\"rules\"][\"contains\"]\n",
    "    \n",
    "    objectInformation: dict[str, list[str]] = {}\n",
    "    \n",
    "    for objName,d in data.items():\n",
    "        info: list[str] = []\n",
    "        category = d[\"category\"]\n",
    "        \n",
    "        info.append(f\"Category: {category}\")\n",
    "        info.append(f\"Value: {d['value']}\")\n",
    "        info.append(f\"Weight: {d['weight']}\")\n",
    "        if (category == \"FOOD\"):\n",
    "            info.append(f\"Nutritional Value: {d['general1']}\")\n",
    "        \n",
    "        # placeholder replacement values\n",
    "        name = objName\n",
    "        name1 = objName if objName.find(\"-\") == -1 else objName.split(\"-\")[0]\n",
    "        name2 = objName if objName.find(\"-\") == -1 else objName.split(\"-\")[1]\n",
    "        article = \"an\" if objName[0] in \"AEIOU\" else \"a\"\n",
    "        article1 = \"an\" if name1[0] in \"AEIOU\" else \"a\"\n",
    "        article2 = \"an\" if name2[0] in \"AEIOU\" else \"a\"\n",
    "        replacements = {\n",
    "            \"@A\": article,\n",
    "            \"@N\": name\n",
    "        }\n",
    "        replacements1 = {\n",
    "            \"@A\": article1,\n",
    "            \"@N\": name1\n",
    "        }\n",
    "        replacements2 = {\n",
    "            \"@A\": article2,\n",
    "            \"@N\": name2\n",
    "        }\n",
    "    \n",
    "        if objName in unique:\n",
    "            info.append(f\"Acquire: {unique[objName]}\")\n",
    "        elif objName in categorical:\n",
    "            info.append(f\"Acquire: {replacePlaceholders(categorical[objName], replacements2)}\")\n",
    "        else:\n",
    "            found = False\n",
    "            for key in starts.keys():\n",
    "                if objName.startswith(key):\n",
    "                    info.append(f\"Acquire: {replacePlaceholders(starts[key], replacements2)}\")\n",
    "                    found = True\n",
    "                    break\n",
    "        \n",
    "            if not found:\n",
    "                for key in ends.keys():\n",
    "                    if objName.endswith(key):\n",
    "                        info.append(f\"Acquire: {replacePlaceholders(ends[key], replacements1)}\")\n",
    "                        found = True\n",
    "                        break\n",
    "            \n",
    "            if not found:\n",
    "                for key in contains.keys():\n",
    "                    if key in objName:\n",
    "                        info.append(f\"Acquire: {replacePlaceholders(contains[key], replacements)}\")\n",
    "                        break\n",
    "                    \n",
    "            if not found:\n",
    "                raise ValueError(f\"Could not find acquisition rule for {objName}\")\n",
    "        \n",
    "        objectInformation[objName] = info\n",
    "    \n",
    "    return objectInformation"
   ]
  },
  {
   "cell_type": "code",
   "execution_count": 6,
   "metadata": {},
   "outputs": [],
   "source": [
    "def generateCraftableResourceInfo(data: dict[str, dict[str,typing.Any]]) -> dict[str,list[str]]:\n",
    "    \"\"\"Generate lists of strings forming the craftable resource information.\n",
    "\n",
    "    Args:\n",
    "        data (dict[str, dict[str,typing.Any]]): crafable resources data\n",
    "\n",
    "    Returns:\n",
    "        dict[str,list[str]]: object information for each resource\n",
    "    \"\"\"\n",
    "    \n",
    "    objectInformation: dict[str, list[str]] = {}\n",
    "    \n",
    "    for objName,d in data.items():\n",
    "        info: list[str] = []\n",
    "        category = d[\"category\"]\n",
    "        \n",
    "        info.append(f\"Category: {category}\")\n",
    "        info.append(f\"Value: {d['value']}\")\n",
    "        info.append(f\"Weight: {d['weight']}\")\n",
    "        info.append(f\"Acquire: Craft from {recipeToText(d['recipe'])}\")\n",
    "        \n",
    "        objectInformation[objName] = info\n",
    "    \n",
    "    return objectInformation    "
   ]
  },
  {
   "cell_type": "code",
   "execution_count": 7,
   "metadata": {},
   "outputs": [],
   "source": [
    "def generateContainerInfo(data: dict[str, dict[str,typing.Any]]) -> dict[str,list[str]]:\n",
    "    \"\"\"Generate lists of strings forming the container information.\n",
    "\n",
    "    Args:\n",
    "        data (dict[str, dict[str,typing.Any]]): container data\n",
    "\n",
    "    Returns:\n",
    "        dict[str,list[str]]: object information for each container\n",
    "    \"\"\"\n",
    "    \n",
    "    objectInformation: dict[str, list[str]] = {}\n",
    "    \n",
    "    for objName,d in data.items():\n",
    "        info: list[str] = []\n",
    "        category = \"CONTAINER\"\n",
    "        \n",
    "        info.append(f\"Category: {category}\")\n",
    "        info.append(F\"Capacity: {d['amount']}\")\n",
    "        info.append(f\"Value: {d['value']}\")\n",
    "        info.append(f\"Weight: {d['weight']}\")\n",
    "        info.append(f\"Acquire: Craft from {recipeToText(d['recipe'])}\")\n",
    "        \n",
    "        objectInformation[objName] = info\n",
    "    \n",
    "    return objectInformation"
   ]
  },
  {
   "cell_type": "code",
   "execution_count": 8,
   "metadata": {},
   "outputs": [],
   "source": [
    "def generateMachineInfo(data: dict[str, dict[str,typing.Any]]) -> dict[str,list[str]]:\n",
    "    \"\"\"Generate lists of strings forming the machine information.\n",
    "\n",
    "    Args:\n",
    "        data (dict[str, dict[str,typing.Any]]): machine data\n",
    "\n",
    "    Returns:\n",
    "        dict[str,list[str]]: object information for each machine\n",
    "    \"\"\"\n",
    "    \n",
    "    objectInformation: dict[str, list[str]] = {}\n",
    "    \n",
    "    for objName,d in data.items():\n",
    "        info: list[str] = []\n",
    "        category = \"MACHINE\"\n",
    "        \n",
    "        info.append(f\"Category: {category}\")\n",
    "        info.append(f\"Value: {d['value']}\")\n",
    "        info.append(f\"Weight: {d['weight']}\")\n",
    "        info.append(f\"Acquire: Craft from {recipeToText(d['recipe'])}\")\n",
    "        if len(d['fuel']) == 0:\n",
    "            info.append(\"Fuel: Not required\")\n",
    "        elif len(d['fuel']) == 1:\n",
    "            info.append(f\"Fuel: {d['fuel'][0]} required\")\n",
    "        else:\n",
    "            info.append(\"Fuel: \" + \", \".join(d['fuel'][:-1])+f\" or {d['fuel'][-1]} required\")\n",
    "        \n",
    "        objectInformation[objName] = info\n",
    "    \n",
    "    return objectInformation"
   ]
  },
  {
   "cell_type": "code",
   "execution_count": 9,
   "metadata": {},
   "outputs": [],
   "source": [
    "def generateStoragesInfo(data: dict[str, dict[str,typing.Any]]) -> dict[str,list[str]]:\n",
    "    \"\"\"Generate lists of strings forming the storage information.\n",
    "\n",
    "    Args:\n",
    "        data (dict[str, dict[str,typing.Any]]): storage data\n",
    "\n",
    "    Returns:\n",
    "        dict[str,list[str]]: object information for each storage\n",
    "    \"\"\"\n",
    "    \n",
    "    objectInformation: dict[str, list[str]] = {}\n",
    "    \n",
    "    for objName,d in data.items():\n",
    "        info: list[str] = []\n",
    "        category = \"STORAGE\"\n",
    "        \n",
    "        info.append(f\"Category: {category}\")\n",
    "        info.append(f\"Value: {d['value']}\")\n",
    "        info.append(f\"Weight: {d['weight']}\")\n",
    "        info.append(f\"Acquire: Craft from {recipeToText(d['recipe'])}\")\n",
    "        info.append(f\"Carryable: {'Yes' if d['carry'] else 'No'}\")\n",
    "        info.append(f\"Capacity: {d['capacity']}\")\n",
    "        \n",
    "        objectInformation[objName] = info\n",
    "    \n",
    "    return objectInformation"
   ]
  },
  {
   "cell_type": "code",
   "execution_count": 10,
   "metadata": {},
   "outputs": [],
   "source": [
    "def generateToolsInfo(data: dict[str, dict[str,typing.Any]]) -> dict[str,list[str]]:\n",
    "    \"\"\"Generate lists of strings forming the tool information.\n",
    "\n",
    "    Args:\n",
    "        data (dict[str, dict[str,typing.Any]]): tool data\n",
    "\n",
    "    Returns:\n",
    "        dict[str,list[str]]: object information for each tool\n",
    "    \"\"\"\n",
    "    \n",
    "    objectInformation: dict[str, list[str]] = {}\n",
    "    \n",
    "    for objName,d in data.items():\n",
    "        info: list[str] = []\n",
    "        category = \"TOOL\"\n",
    "        \n",
    "        info.append(f\"Category: {category}\")\n",
    "        info.append(f\"Value: {d['value']}\")\n",
    "        info.append(f\"Weight: {d['weight']}\")\n",
    "        info.append(f\"Acquire: Craft from {recipeToText(d['recipe'])}\")\n",
    "        info.append(f\"Durability: {'No limit' if d['durability'] < 0 else d['durability']}\")\n",
    "        \n",
    "        objectInformation[objName] = info\n",
    "    \n",
    "    return objectInformation"
   ]
  },
  {
   "cell_type": "code",
   "execution_count": 11,
   "metadata": {},
   "outputs": [],
   "source": [
    "def generateWeaponsInfo(data: dict[str, dict[str,typing.Any]]) -> dict[str,list[str]]:\n",
    "    \"\"\"Generate lists of strings forming the weapon information.\n",
    "\n",
    "    Args:\n",
    "        data (dict[str, dict[str,typing.Any]]): weapon data\n",
    "\n",
    "    Returns:\n",
    "        dict[str,list[str]]: object information for each weapon\n",
    "    \"\"\"\n",
    "    \n",
    "    objectInformation: dict[str, list[str]] = {}\n",
    "    \n",
    "    for objName,d in data.items():\n",
    "        info: list[str] = []\n",
    "        category = \"WEAPON\"\n",
    "        \n",
    "        info.append(f\"Category: {category}\")\n",
    "        info.append(f\"Value: {d['value']}\")\n",
    "        info.append(f\"Weight: {d['weight']}\")\n",
    "        info.append(f\"Acquire: Craft from {recipeToText(d['recipe'])}\")\n",
    "        info.append(f\"Durability: {'No limit' if d['durability'] < 0 else d['durability']}\")\n",
    "        info.append(f\"Melee Damage Ratio: {d['m-damage']}\")\n",
    "        info.append(f\"Ranged Damage Ratio: {d['r-damage']}\")\n",
    "        info.append(f\"Ammo Type: {d['ammo'].capitalize()}\")\n",
    "        \n",
    "        objectInformation[objName] = info\n",
    "    \n",
    "    return objectInformation"
   ]
  },
  {
   "cell_type": "code",
   "execution_count": 12,
   "metadata": {},
   "outputs": [],
   "source": [
    "def generateLiquidsInfo(data: dict[str, dict[str,typing.Any]], rules: dict[str: dict[str,str]]) -> dict[str,list[str]]:\n",
    "    \"\"\"Generate lists of strings forming the liquid information.\n",
    "\n",
    "    Args:\n",
    "        data (dict[str, dict[str,typing.Any]]): liquid data\n",
    "        rules (dict[str, dict[str,str]]): acquisition rules\n",
    "\n",
    "    Returns:\n",
    "        dict[str,list[str]]: object information for each liquid\n",
    "    \"\"\"\n",
    "    \n",
    "    unique: dict[str, str] = rules[\"unqiue\"]\n",
    "    categorical: dict[str, str] = rules[\"rules\"][\"category\"]\n",
    "    starts: dict[str, str] = rules[\"rules\"][\"startswith\"]\n",
    "    ends: dict[str, str] = rules[\"rules\"][\"endswith\"]\n",
    "    contains: dict[str, str] = rules[\"rules\"][\"contains\"]\n",
    "    \n",
    "    objectInformation: dict[str, list[str]] = {}\n",
    "    \n",
    "    for objName,d in data.items():\n",
    "        if objName == \"empty\":\n",
    "            continue\n",
    "        \n",
    "        info: list[str] = []\n",
    "        category = \"LIQUID\"\n",
    "        \n",
    "        info.append(f\"Category: {category}\")\n",
    "        info.append(f\"Value: {d['value']}\")\n",
    "        info.append(f\"Weight: {d['weight']}\")\n",
    "        \n",
    "        # placeholder replacement values\n",
    "        name = objName\n",
    "        name1 = objName if objName.find(\"-\") == -1 else objName.split(\"-\")[0]\n",
    "        name2 = objName if objName.find(\"-\") == -1 else objName.split(\"-\")[1]\n",
    "        article = \"an\" if objName[0] in \"AEIOU\" else \"a\"\n",
    "        article1 = \"an\" if name1[0] in \"AEIOU\" else \"a\"\n",
    "        article2 = \"an\" if name2[0] in \"AEIOU\" else \"a\"\n",
    "        replacements = {\n",
    "            \"@A\": article,\n",
    "            \"@N\": name\n",
    "        }\n",
    "        replacements1 = {\n",
    "            \"@A\": article1,\n",
    "            \"@N\": name1\n",
    "        }\n",
    "        replacements2 = {\n",
    "            \"@A\": article2,\n",
    "            \"@N\": name2\n",
    "        }\n",
    "    \n",
    "        if objName in unique:\n",
    "            info.append(f\"Acquire: {unique[objName]}\")\n",
    "        elif objName in categorical:\n",
    "            info.append(f\"Acquire: {replacePlaceholders(categorical[objName], replacements2)}\")\n",
    "        else:\n",
    "            found = False\n",
    "            for key in starts.keys():\n",
    "                if objName.startswith(key):\n",
    "                    info.append(f\"Acquire: {replacePlaceholders(starts[key], replacements2)}\")\n",
    "                    found = True\n",
    "                    break\n",
    "        \n",
    "            if not found:\n",
    "                for key in ends.keys():\n",
    "                    if objName.endswith(key):\n",
    "                        info.append(f\"Acquire: {replacePlaceholders(ends[key], replacements1)}\")\n",
    "                        found = True\n",
    "                        break\n",
    "            \n",
    "            if not found:\n",
    "                for key in contains.keys():\n",
    "                    if key in objName:\n",
    "                        info.append(f\"Acquire: {replacePlaceholders(contains[key], replacements)}\")\n",
    "                        break\n",
    "                    \n",
    "            if not found:\n",
    "                raise ValueError(f\"Could not find acquisition rule for {objName}\")\n",
    "        \n",
    "        info.append(f\"Hunger: {d['hunger']}\")\n",
    "        info.append(f\"Thirst: {d['thirst']}\")\n",
    "        info.append(f\"Health: {d['hp']}\")\n",
    "        \n",
    "        objectInformation[objName] = info\n",
    "    \n",
    "    return objectInformation"
   ]
  },
  {
   "cell_type": "markdown",
   "metadata": {},
   "source": [
    "### Load Data"
   ]
  },
  {
   "cell_type": "code",
   "execution_count": 13,
   "metadata": {},
   "outputs": [],
   "source": [
    "resourceData: dict = json.loads(Path(\"../data/resources.json\").read_text())\n",
    "craftableResourceData: dict = json.loads(Path(\"../data/craftableResources.json\").read_text())\n",
    "containerData: dict = json.loads(Path(\"../data/containers.json\").read_text())\n",
    "toolsData: dict = json.loads(Path(\"../data/tools.json\").read_text())\n",
    "weaponsData: dict = json.loads(Path(\"../data/weapons.json\").read_text())\n",
    "storagesData: dict = json.loads(Path(\"../data/storages.json\").read_text())\n",
    "machinesData: dict = json.loads(Path(\"../data/machines.json\").read_text())\n",
    "liquidsData: dict = json.loads(Path(\"../data/liquids.json\").read_text())"
   ]
  },
  {
   "cell_type": "markdown",
   "metadata": {},
   "source": [
    "### Generate"
   ]
  },
  {
   "cell_type": "code",
   "execution_count": 14,
   "metadata": {},
   "outputs": [],
   "source": [
    "PRINTING = False"
   ]
  },
  {
   "cell_type": "code",
   "execution_count": 15,
   "metadata": {},
   "outputs": [],
   "source": [
    "resourceInfo = generateResourceInfo(resourceData, resourceRules)\n",
    "assert len(resourceData) == len(resourceInfo), \"Missing resource info\"\n",
    "if PRINTING:\n",
    "    pprint(resourceInfo)\n",
    "allObjectInfo.update(resourceInfo.items())"
   ]
  },
  {
   "cell_type": "code",
   "execution_count": 16,
   "metadata": {},
   "outputs": [],
   "source": [
    "craftableResourceInfo = generateCraftableResourceInfo(craftableResourceData)\n",
    "assert len(craftableResourceData) == len(craftableResourceInfo), \"Missing craftable resource info\"\n",
    "if PRINTING:\n",
    "    pprint(craftableResourceInfo)\n",
    "allObjectInfo.update(craftableResourceInfo.items())"
   ]
  },
  {
   "cell_type": "code",
   "execution_count": 17,
   "metadata": {},
   "outputs": [],
   "source": [
    "containerInfo = generateContainerInfo(containerData)\n",
    "assert len(containerData) == len(containerInfo), \"Missing container info\"\n",
    "if PRINTING:\n",
    "    pprint(containerInfo)\n",
    "allObjectInfo.update(containerInfo.items())"
   ]
  },
  {
   "cell_type": "code",
   "execution_count": 18,
   "metadata": {},
   "outputs": [],
   "source": [
    "machineInfo = generateMachineInfo(machinesData)\n",
    "assert len(machinesData) == len(machineInfo), \"Missing machine info\"\n",
    "if PRINTING:\n",
    "    pprint(machineInfo)\n",
    "allObjectInfo.update(machineInfo.items())"
   ]
  },
  {
   "cell_type": "code",
   "execution_count": 19,
   "metadata": {},
   "outputs": [],
   "source": [
    "storagesInfo = generateStoragesInfo(storagesData)\n",
    "assert len(storagesData) == len(storagesInfo), \"Missing storage info\"\n",
    "if PRINTING:\n",
    "    pprint(storagesInfo)\n",
    "allObjectInfo.update(storagesInfo.items())"
   ]
  },
  {
   "cell_type": "code",
   "execution_count": 20,
   "metadata": {},
   "outputs": [],
   "source": [
    "toolsInfo = generateToolsInfo(toolsData)\n",
    "assert len(toolsData) == len(toolsInfo), \"Missing tool info\"\n",
    "if PRINTING:\n",
    "    pprint(toolsInfo)\n",
    "allObjectInfo.update(toolsInfo.items())"
   ]
  },
  {
   "cell_type": "code",
   "execution_count": 21,
   "metadata": {},
   "outputs": [],
   "source": [
    "weaponsInfo = generateWeaponsInfo(weaponsData)\n",
    "assert len(weaponsData) == len(weaponsInfo), \"Missing weapon info\"\n",
    "if PRINTING:\n",
    "    pprint(weaponsInfo)\n",
    "allObjectInfo.update(weaponsInfo.items())"
   ]
  },
  {
   "cell_type": "code",
   "execution_count": 22,
   "metadata": {},
   "outputs": [],
   "source": [
    "liquidsInfo = generateLiquidsInfo(liquidsData, liquidRules)\n",
    "assert len(liquidsData) == len(liquidsInfo) + 1, \"Missing liquid info\"\n",
    "if PRINTING:\n",
    "    pprint(liquidsInfo)\n",
    "allObjectInfo.update(liquidsInfo.items())"
   ]
  },
  {
   "cell_type": "markdown",
   "metadata": {},
   "source": [
    "### Save"
   ]
  },
  {
   "cell_type": "code",
   "execution_count": 23,
   "metadata": {},
   "outputs": [
    {
     "name": "stdout",
     "output_type": "stream",
     "text": [
      "88 info items generated\n"
     ]
    }
   ],
   "source": [
    "print(len(allObjectInfo), \"info items generated\")\n",
    "_ = Path(\"../infodata/object_info.json\").write_text(json.dumps(dict(sorted(allObjectInfo.items(), key = lambda x: x[0])), indent=4))"
   ]
  }
 ],
 "metadata": {
  "kernelspec": {
   "display_name": "Python 3",
   "language": "python",
   "name": "python3"
  },
  "language_info": {
   "codemirror_mode": {
    "name": "ipython",
    "version": 3
   },
   "file_extension": ".py",
   "mimetype": "text/x-python",
   "name": "python",
   "nbconvert_exporter": "python",
   "pygments_lexer": "ipython3",
   "version": "3.12.0"
  }
 },
 "nbformat": 4,
 "nbformat_minor": 2
}
